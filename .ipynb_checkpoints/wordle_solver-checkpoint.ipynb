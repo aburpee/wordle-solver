{
 "cells": [
  {
   "cell_type": "code",
   "execution_count": 1,
   "id": "c27e581e-fe00-4359-8983-b00fdbfaf415",
   "metadata": {},
   "outputs": [],
   "source": [
    "import random"
   ]
  },
  {
   "cell_type": "code",
   "execution_count": 2,
   "id": "38206027-d3bd-4d63-9b75-d839e9884347",
   "metadata": {},
   "outputs": [],
   "source": [
    "import re"
   ]
  },
  {
   "cell_type": "code",
   "execution_count": 3,
   "id": "b0275ec2-5a61-4956-baed-54f582b3bc7f",
   "metadata": {},
   "outputs": [],
   "source": [
    "from english_words import get_english_words_set"
   ]
  },
  {
   "cell_type": "code",
   "execution_count": 4,
   "id": "66f04041-33e7-4c24-aa3a-f8309533a251",
   "metadata": {},
   "outputs": [],
   "source": [
    "word_list = get_english_words_set(['web2', 'gcide'], lower=True)"
   ]
  },
  {
   "cell_type": "code",
   "execution_count": 97,
   "id": "d658c49b-6e99-46e9-9b2d-b4c85a106cbe",
   "metadata": {},
   "outputs": [],
   "source": [
    "valid_words = []"
   ]
  },
  {
   "cell_type": "code",
   "execution_count": 98,
   "id": "f5990928-e35d-4f68-b186-867a2e20e6fe",
   "metadata": {},
   "outputs": [],
   "source": [
    "for i in word_list:\n",
    "    if len(i) == 5 and ' ' not in i and \"'\" not in i:\n",
    "        valid_words.append(i)"
   ]
  },
  {
   "cell_type": "code",
   "execution_count": 99,
   "id": "8d8198d4-7994-41ed-86b4-dc4a482e3bc3",
   "metadata": {},
   "outputs": [
    {
     "data": {
      "text/plain": [
       "11763"
      ]
     },
     "execution_count": 99,
     "metadata": {},
     "output_type": "execute_result"
    }
   ],
   "source": [
    "len(valid_words)"
   ]
  },
  {
   "cell_type": "code",
   "execution_count": 100,
   "id": "82c9f4d7-81d8-4132-9c4d-b7b3fb1214df",
   "metadata": {},
   "outputs": [],
   "source": [
    "valid_words.remove('apple')"
   ]
  },
  {
   "cell_type": "code",
   "execution_count": 8,
   "id": "bee68592-e4f7-4140-a6d6-77be9fe5d1f0",
   "metadata": {},
   "outputs": [],
   "source": [
    "target_word = random.choice(valid_words)"
   ]
  },
  {
   "cell_type": "code",
   "execution_count": 9,
   "id": "4c5c5bb0-95f2-4f89-99e3-dba175d737c1",
   "metadata": {},
   "outputs": [],
   "source": [
    "guess_word = random.choice(valid_words)"
   ]
  },
  {
   "cell_type": "code",
   "execution_count": 10,
   "id": "bedf1e47-4ce1-49ab-8c7d-f19480ae5dad",
   "metadata": {},
   "outputs": [
    {
     "data": {
      "text/plain": [
       "'baure'"
      ]
     },
     "execution_count": 10,
     "metadata": {},
     "output_type": "execute_result"
    }
   ],
   "source": [
    "target_word"
   ]
  },
  {
   "cell_type": "code",
   "execution_count": 11,
   "id": "ccdce043-a25a-4f5d-aa2b-a3eb0e13887e",
   "metadata": {},
   "outputs": [
    {
     "data": {
      "text/plain": [
       "'cardo'"
      ]
     },
     "execution_count": 11,
     "metadata": {},
     "output_type": "execute_result"
    }
   ],
   "source": [
    "guess_word"
   ]
  },
  {
   "cell_type": "code",
   "execution_count": 21,
   "id": "e2a07c67-e36e-4dce-b48c-43676ec12936",
   "metadata": {},
   "outputs": [],
   "source": [
    "correct_char_wrong_index = {}"
   ]
  },
  {
   "cell_type": "code",
   "execution_count": 22,
   "id": "7ff7b4fb-596e-459d-8da6-0679d7dc22f9",
   "metadata": {},
   "outputs": [],
   "source": [
    "correct_char_index = {}"
   ]
  },
  {
   "cell_type": "code",
   "execution_count": null,
   "id": "0e251c67-a5ae-4d6a-b724-51a4d101e040",
   "metadata": {},
   "outputs": [],
   "source": [
    "for i in word_list:\n",
    "    if len(i) == 5 and ' ' not in i and \"'\" not in i:\n",
    "        valid_words.append(i)"
   ]
  },
  {
   "cell_type": "code",
   "execution_count": 42,
   "id": "b3413026-9e08-4ba2-853e-5b9a2f1581e5",
   "metadata": {},
   "outputs": [],
   "source": [
    "word1 = 'poppa'"
   ]
  },
  {
   "cell_type": "code",
   "execution_count": 151,
   "id": "a50e51c6-cc0c-427e-b1f4-c3ed9069bd39",
   "metadata": {},
   "outputs": [],
   "source": [
    "word2 = 'papyr'"
   ]
  },
  {
   "cell_type": "code",
   "execution_count": 53,
   "id": "f813486a-40d8-4804-ab0d-90e50c10577b",
   "metadata": {},
   "outputs": [],
   "source": [
    "target_word = ['','','','','']"
   ]
  },
  {
   "cell_type": "code",
   "execution_count": 124,
   "id": "6ecb4427-471a-4e3a-9a03-a033f6696a5e",
   "metadata": {},
   "outputs": [],
   "source": [
    "guess_letters = []"
   ]
  },
  {
   "cell_type": "code",
   "execution_count": 159,
   "id": "0a081ccd-4652-4d39-8474-44a9700c2035",
   "metadata": {},
   "outputs": [],
   "source": [
    "def guess_words(target_word, guess_word):\n",
    "    for i in range(len(guess_word)):\n",
    "        if guess_word[i] == target_word[i]:\n",
    "            guess_letters.append(('g', guess_word[i], i))\n",
    "        elif guess_word[i] in target_word:\n",
    "            guess_letters.append(('y', guess_word[i], i))\n",
    "        elif guess_word[i] not in target_word:\n",
    "            guess_letters.append(('n', guess_word[i], ''))\n",
    "    return guess_letters"
   ]
  },
  {
   "cell_type": "code",
   "execution_count": 153,
   "id": "3fa7b559-fc90-427c-8384-92b26bf6fafd",
   "metadata": {},
   "outputs": [],
   "source": [
    "valid_words = valid_words_amended"
   ]
  },
  {
   "cell_type": "code",
   "execution_count": 154,
   "id": "fbe07356-a18f-4fb3-a064-de73371e2451",
   "metadata": {},
   "outputs": [
    {
     "data": {
      "text/plain": [
       "72"
      ]
     },
     "execution_count": 154,
     "metadata": {},
     "output_type": "execute_result"
    }
   ],
   "source": [
    "len(valid_words)"
   ]
  },
  {
   "cell_type": "code",
   "execution_count": 142,
   "id": "c6040604-b37e-4586-aa00-d7fcd344e305",
   "metadata": {},
   "outputs": [],
   "source": []
  },
  {
   "cell_type": "code",
   "execution_count": 155,
   "id": "eb71fcca-f5c3-4d86-ad15-810e1445ba9a",
   "metadata": {},
   "outputs": [
    {
     "data": {
      "text/plain": [
       "[('y', 'a', 0),\n",
       " ('y', 'p', 1),\n",
       " ('g', 'p', 2),\n",
       " ('n', 'l', ''),\n",
       " ('n', 'e', ''),\n",
       " ('g', 'p', 0),\n",
       " ('y', 'a', 1),\n",
       " ('g', 'p', 2),\n",
       " ('n', 'y', ''),\n",
       " ('n', 'r', '')]"
      ]
     },
     "execution_count": 155,
     "metadata": {},
     "output_type": "execute_result"
    }
   ],
   "source": [
    "guess_letters"
   ]
  },
  {
   "cell_type": "code",
   "execution_count": 147,
   "id": "22882321-4d49-4abe-8a10-66b21843b1ef",
   "metadata": {},
   "outputs": [],
   "source": [
    "def is_valid_word(word, guess_letters):\n",
    "    for letter_prop in guess_letters:\n",
    "        if letter_prop[0] == 'g' and word[letter_prop[2]] != letter_prop[1]:\n",
    "            return False\n",
    "        if letter_prop[0] == 'y' and letter_prop[1] not in word:\n",
    "            return False\n",
    "        if letter_prop[0] == 'y' and word[letter_prop[2]] == letter_prop[1]:\n",
    "            return False\n",
    "        if letter_prop[0] == 'n' and letter_prop[1] in word:\n",
    "            return False\n",
    "    return True"
   ]
  },
  {
   "cell_type": "code",
   "execution_count": 156,
   "id": "3603aab0-e4e5-48ff-8adb-d3ee10063cfc",
   "metadata": {},
   "outputs": [],
   "source": [
    "valid_words_amended = [word for word in valid_words if is_valid_word(word, guess_letters)]"
   ]
  },
  {
   "cell_type": "code",
   "execution_count": 157,
   "id": "755c7978-2d27-43aa-9669-4ef16dd28d43",
   "metadata": {},
   "outputs": [
    {
     "data": {
      "text/plain": [
       "1"
      ]
     },
     "execution_count": 157,
     "metadata": {},
     "output_type": "execute_result"
    }
   ],
   "source": [
    "len(valid_words_amended)"
   ]
  },
  {
   "cell_type": "code",
   "execution_count": 158,
   "id": "645a1347-bfcf-4d3d-97e7-5ae5f614ab4c",
   "metadata": {},
   "outputs": [
    {
     "data": {
      "text/plain": [
       "['poppa']"
      ]
     },
     "execution_count": 158,
     "metadata": {},
     "output_type": "execute_result"
    }
   ],
   "source": [
    "valid_words_amended"
   ]
  },
  {
   "cell_type": "code",
   "execution_count": 150,
   "id": "a2e9896d-55e4-41d4-9771-3616e47a0606",
   "metadata": {},
   "outputs": [
    {
     "data": {
      "text/plain": [
       "'papyr'"
      ]
     },
     "execution_count": 150,
     "metadata": {},
     "output_type": "execute_result"
    }
   ],
   "source": [
    "random.choice(valid_words_amended)"
   ]
  },
  {
   "cell_type": "code",
   "execution_count": null,
   "id": "70ee029c-25ef-4412-8b4b-9d61c0d3a8d6",
   "metadata": {},
   "outputs": [],
   "source": []
  }
 ],
 "metadata": {
  "kernelspec": {
   "display_name": "Python 3 (ipykernel)",
   "language": "python",
   "name": "python3"
  },
  "language_info": {
   "codemirror_mode": {
    "name": "ipython",
    "version": 3
   },
   "file_extension": ".py",
   "mimetype": "text/x-python",
   "name": "python",
   "nbconvert_exporter": "python",
   "pygments_lexer": "ipython3",
   "version": "3.9.7"
  }
 },
 "nbformat": 4,
 "nbformat_minor": 5
}
