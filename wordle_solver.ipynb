{
 "cells": [
  {
   "cell_type": "code",
   "execution_count": 1,
   "id": "c27e581e-fe00-4359-8983-b00fdbfaf415",
   "metadata": {},
   "outputs": [],
   "source": [
    "import random"
   ]
  },
  {
   "cell_type": "code",
   "execution_count": 2,
   "id": "38206027-d3bd-4d63-9b75-d839e9884347",
   "metadata": {},
   "outputs": [],
   "source": [
    "import re"
   ]
  },
  {
   "cell_type": "code",
   "execution_count": 3,
   "id": "b0275ec2-5a61-4956-baed-54f582b3bc7f",
   "metadata": {},
   "outputs": [],
   "source": [
    "from english_words import get_english_words_set"
   ]
  },
  {
   "cell_type": "code",
   "execution_count": 4,
   "id": "66f04041-33e7-4c24-aa3a-f8309533a251",
   "metadata": {},
   "outputs": [],
   "source": [
    "word_list = get_english_words_set(['web2', 'gcide'], lower=True)"
   ]
  },
  {
   "cell_type": "code",
   "execution_count": 163,
   "id": "8d8198d4-7994-41ed-86b4-dc4a482e3bc3",
   "metadata": {},
   "outputs": [
    {
     "data": {
      "text/plain": [
       "11763"
      ]
     },
     "execution_count": 163,
     "metadata": {},
     "output_type": "execute_result"
    }
   ],
   "source": [
    "len(valid_words)"
   ]
  },
  {
   "cell_type": "code",
   "execution_count": 168,
   "id": "0a081ccd-4652-4d39-8474-44a9700c2035",
   "metadata": {},
   "outputs": [],
   "source": [
    "def guess_letters_func(target_word, guess_word):\n",
    "    for i in range(len(guess_word)):\n",
    "        if guess_word[i] == target_word[i]:\n",
    "            guess_letters.append(('g', guess_word[i], i))\n",
    "        elif guess_word[i] in target_word:\n",
    "            guess_letters.append(('y', guess_word[i], i))\n",
    "        elif guess_word[i] not in target_word:\n",
    "            guess_letters.append(('n', guess_word[i], ''))\n",
    "    return guess_letters"
   ]
  },
  {
   "cell_type": "code",
   "execution_count": 147,
   "id": "22882321-4d49-4abe-8a10-66b21843b1ef",
   "metadata": {},
   "outputs": [],
   "source": [
    "def is_valid_word(word, guess_letters):\n",
    "    for letter_prop in guess_letters:\n",
    "        if letter_prop[0] == 'g' and word[letter_prop[2]] != letter_prop[1]:\n",
    "            return False\n",
    "        if letter_prop[0] == 'y' and letter_prop[1] not in word:\n",
    "            return False\n",
    "        if letter_prop[0] == 'y' and word[letter_prop[2]] == letter_prop[1]:\n",
    "            return False\n",
    "        if letter_prop[0] == 'n' and letter_prop[1] in word:\n",
    "            return False\n",
    "    return True"
   ]
  },
  {
   "cell_type": "code",
   "execution_count": 313,
   "id": "d658c49b-6e99-46e9-9b2d-b4c85a106cbe",
   "metadata": {},
   "outputs": [],
   "source": [
    "valid_words = []"
   ]
  },
  {
   "cell_type": "code",
   "execution_count": 314,
   "id": "f5990928-e35d-4f68-b186-867a2e20e6fe",
   "metadata": {},
   "outputs": [],
   "source": [
    "for i in word_list:\n",
    "    if len(i) == 5 and ' ' not in i and \"'\" not in i:\n",
    "        valid_words.append(i)"
   ]
  },
  {
   "cell_type": "code",
   "execution_count": 315,
   "id": "62c31911-6367-4459-8035-e3685add6f5e",
   "metadata": {},
   "outputs": [
    {
     "data": {
      "text/plain": [
       "11763"
      ]
     },
     "execution_count": 315,
     "metadata": {},
     "output_type": "execute_result"
    }
   ],
   "source": [
    "len(valid_words)"
   ]
  },
  {
   "cell_type": "code",
   "execution_count": 316,
   "id": "bee68592-e4f7-4140-a6d6-77be9fe5d1f0",
   "metadata": {},
   "outputs": [],
   "source": [
    "target_word = random.choice(valid_words)"
   ]
  },
  {
   "cell_type": "code",
   "execution_count": 317,
   "id": "4c5c5bb0-95f2-4f89-99e3-dba175d737c1",
   "metadata": {},
   "outputs": [],
   "source": [
    "guess_word = random.choice(valid_words)"
   ]
  },
  {
   "cell_type": "code",
   "execution_count": 318,
   "id": "bedf1e47-4ce1-49ab-8c7d-f19480ae5dad",
   "metadata": {},
   "outputs": [],
   "source": [
    "target_word = 'pound'"
   ]
  },
  {
   "cell_type": "code",
   "execution_count": 319,
   "id": "ccdce043-a25a-4f5d-aa2b-a3eb0e13887e",
   "metadata": {},
   "outputs": [],
   "source": [
    "guess_word = 'tapia'"
   ]
  },
  {
   "cell_type": "code",
   "execution_count": 320,
   "id": "daa91bc5-f6d7-4620-9283-056cbe914d95",
   "metadata": {},
   "outputs": [],
   "source": [
    "guess_letters = []"
   ]
  },
  {
   "cell_type": "code",
   "execution_count": 321,
   "id": "a2e9896d-55e4-41d4-9771-3616e47a0606",
   "metadata": {},
   "outputs": [
    {
     "name": "stdout",
     "output_type": "stream",
     "text": [
      "guess word:  tapia\n",
      "length valid words:  11763\n",
      "length valid words amended:  390\n",
      "guess word:  loupe\n",
      "length valid words:  390\n",
      "length valid words amended:  2\n",
      "guess word:  pouch\n",
      "length valid words:  2\n",
      "length valid words amended:  1\n",
      "guess word:  pound\n",
      "target word:  pound\n",
      "you won on round 3\n"
     ]
    }
   ],
   "source": [
    "for i in range(1,7):\n",
    "    print('guess word: ', guess_word)\n",
    "    guess_letters_func(target_word, guess_word)\n",
    "    valid_words_amended = [word for word in valid_words if is_valid_word(word, guess_letters)]\n",
    "    print('length valid words: ', len(valid_words))\n",
    "    print('length valid words amended: ', len(valid_words_amended))\n",
    "    valid_words = valid_words_amended\n",
    "    guess_word = random.choice(valid_words_amended)\n",
    "    if guess_word == target_word:\n",
    "        print('guess word: ', guess_word)\n",
    "        print('target word: ', target_word)\n",
    "        print(f'you won on round {i}')\n",
    "        break"
   ]
  },
  {
   "cell_type": "code",
   "execution_count": null,
   "id": "70ee029c-25ef-4412-8b4b-9d61c0d3a8d6",
   "metadata": {},
   "outputs": [],
   "source": []
  }
 ],
 "metadata": {
  "kernelspec": {
   "display_name": "Python 3 (ipykernel)",
   "language": "python",
   "name": "python3"
  },
  "language_info": {
   "codemirror_mode": {
    "name": "ipython",
    "version": 3
   },
   "file_extension": ".py",
   "mimetype": "text/x-python",
   "name": "python",
   "nbconvert_exporter": "python",
   "pygments_lexer": "ipython3",
   "version": "3.9.7"
  }
 },
 "nbformat": 4,
 "nbformat_minor": 5
}
